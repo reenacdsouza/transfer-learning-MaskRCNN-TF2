{
  "cells": [
    {
      "cell_type": "markdown",
      "id": "8932aff8",
      "metadata": {
        "id": "8932aff8"
      },
      "source": [
        "Verify the Version of the Installed Libraries"
      ]
    },
    {
      "cell_type": "code",
      "source": [
        "!pip install tensorflow-gpu==2.7.0"
      ],
      "metadata": {
        "id": "OIwdD9jH7HPD"
      },
      "id": "OIwdD9jH7HPD",
      "execution_count": null,
      "outputs": []
    },
    {
      "cell_type": "code",
      "source": [
        "# memory footprint support libraries/code\n",
        "!ln -sf /opt/bin/nvidia-smi /usr/bin/nvidia-smi\n",
        "!pip install gputil\n",
        "!pip install psutil\n",
        "!pip install humanize\n",
        "import psutil\n",
        "import humanize\n",
        "import os\n",
        "import GPUtil as GPU\n",
        "GPUs = GPU.getGPUs()\n",
        "# XXX: only one GPU on Colab and isn't guaranteed\n",
        "gpu = GPUs[0]\n",
        "def printm():\n",
        "  process = psutil.Process(os.getpid())\n",
        "  print(\"Gen RAM Free: \" + humanize.naturalsize(psutil.virtual_memory().available), \" | Proc size: \" + humanize.naturalsize(process.memory_info().rss))\n",
        "  print(\"GPU RAM Free: {0:.0f}MB | Used: {1:.0f}MB | Util {2:3.0f}% | Total {3:.0f}MB\".format(gpu.memoryFree, gpu.memoryUsed, gpu.memoryUtil*100, gpu.memoryTotal))\n",
        "printm()"
      ],
      "metadata": {
        "id": "44cTi4Zy9DK2"
      },
      "id": "44cTi4Zy9DK2",
      "execution_count": null,
      "outputs": []
    },
    {
      "cell_type": "code",
      "source": [
        "gpu_info = !nvidia-smi\n",
        "gpu_info = '\\n'.join(gpu_info)\n",
        "if gpu_info.find('failed') >= 0:\n",
        "  print('Not connected to a GPU')\n",
        "else:\n",
        "  print(gpu_info)"
      ],
      "metadata": {
        "id": "SEib2bCj9QPY"
      },
      "id": "SEib2bCj9QPY",
      "execution_count": null,
      "outputs": []
    },
    {
      "cell_type": "code",
      "execution_count": null,
      "id": "6702ccde",
      "metadata": {
        "id": "6702ccde"
      },
      "outputs": [],
      "source": [
        "import tensorflow as tf\n",
        "import keras\n",
        "import h5py as h5\n",
        "import skimage\n",
        "\n",
        "print(tf.__version__)\n",
        "print(keras.__version__)\n",
        "print(h5.__version__)\n",
        "print(skimage.__version__)"
      ]
    },
    {
      "cell_type": "code",
      "source": [
        "%cd /content/drive/MyDrive/Colab Notebooks\n",
        "import os\n",
        "os.getcwd()"
      ],
      "metadata": {
        "id": "k9giEVqUz60f"
      },
      "id": "k9giEVqUz60f",
      "execution_count": null,
      "outputs": []
    },
    {
      "cell_type": "markdown",
      "id": "fdd36671",
      "metadata": {
        "id": "fdd36671"
      },
      "source": [
        "- clone matterport's implementation of Mask-RCNN, trashnet dataset along with annotations and trashnet.py script used to configure the model, load data, train and evaluate the model\n",
        "- download the pretrained weights trained on COCO dataset"
      ]
    },
    {
      "cell_type": "code",
      "execution_count": null,
      "id": "cf167f76",
      "metadata": {
        "id": "cf167f76"
      },
      "outputs": [],
      "source": [
        "!git clone https://github.com/reenacdsouza/transfer-learning-MaskRCNN-TF2.git\n",
        "%cd ./transfer-learning-MaskRCNN-TF2/MaskRCNN-TF2/\n",
        "!wget https://github.com/matterport/Mask_RCNN/releases/download/v2.0/mask_rcnn_coco.h5"
      ]
    },
    {
      "cell_type": "code",
      "source": [
        "%cd ../transfer-learning-MaskRCNN/"
      ],
      "metadata": {
        "id": "4riLA8JX9vhx"
      },
      "id": "4riLA8JX9vhx",
      "execution_count": null,
      "outputs": []
    },
    {
      "cell_type": "markdown",
      "id": "7135cafd",
      "metadata": {
        "id": "7135cafd"
      },
      "source": [
        "Training"
      ]
    },
    {
      "cell_type": "code",
      "execution_count": null,
      "id": "db03a1f3",
      "metadata": {
        "id": "db03a1f3"
      },
      "outputs": [],
      "source": [
        "# Stage 1 Model 1 - !python3 trashnet.py train --weights='coco'  --dataset=trashnet --layer='heads' --epoch='30'\n",
        "# Stage 2 Model 2 - !python3 trashnet.py train --weights='M1-mask_rcnn_trashnet_0030.h5'  --dataset=trashnet --layer='all' --aug='Fliplr' --epoch='30'\n",
        "# Stage 2 Model 3 - !python3 trashnet.py train --weights='M1-mask_rcnn_trashnet_0030.h5'  --dataset=trashnet --layer='all' --epoch='30'\n",
        "# Stage 2 Model 4 - !python3 trashnet.py train --weights='M1-mask_rcnn_trashnet_0030.h5'  --dataset=trashnet --layer='4+' --aug='Fliplr' --epoch='30'\n",
        "# Stage 2 Model 5 - !python3 trashnet.py train --weights='M4-mask_rcnn_trashnet_0030.h5'  --dataset=trashnet --layer='4+' --aug='Fliplr' --epoch='70'\n",
        "# Stage 3 Model 6 - !python3 trashnet.py train --weights='M5-mask_rcnn_trashnet_0100.h5'  --dataset=trashnet --layer='all' --aug='Fliplr' --epoch='20'\n",
        "# Stage 3 Model 7 - !python3 trashnet.py train --weights='M5-mask_rcnn_trashnet_0100.h5'  --dataset=trashnet --layer='4+' --aug='Fliplr' --epoch='20'\n",
        "# Stage 3 Model 8 - !python3 trashnet.py train --weights='M4-mask_rcnn_trashnet_0030.h5'  --dataset=trashnet --layer='all' --aug='Fliplr' --epoch='30'\n",
        "# Stage 3 Model 9 - !python3 trashnet.py train --weights='M8-mask_rcnn_trashnet_0030.h5'  --dataset=trashnet --layer='all' --aug='Fliplr' --epoch='70'\n",
        "# Stage 2 Model 10 - !python3 trashnet.py train --weights='M1-mask_rcnn_trashnet_0030.h5'  --dataset=trashnet --layer='4+' --epoch='30'\n",
        "# Stage 2 Model 11 - !python3 trashnet.py train --weights='M10-mask_rcnn_trashnet_0030.h5'  --dataset=trashnet --layer='4+' --epoch='70'\n",
        "# Stage 3 Model 12 - !python3 trashnet.py train --weights='M11-mask_rcnn_trashnet_0100.h5'  --dataset=trashnet --layer='all' --epoch='20'\n",
        "# Stage 3 Model 13 - !python3 trashnet.py train --weights='M11-mask_rcnn_trashnet_0100.h5'  --dataset=trashnet --layer='4+' --epoch='20'\n",
        "# Stage 3 Model 14 - !python3 trashnet.py train --weights='M10-mask_rcnn_trashnet_0030.h5'  --dataset=trashnet --layer='all' --epoch='30'\n",
        "# Stage 3 Model 15 - !python3 trashnet.py train --weights='M14-mask_rcnn_trashnet_0030.h5'  --dataset=trashnet --layer='all' --epoch='70'\n",
        "\n",
        "!python3 trashnet.py train --weights='coco'  --dataset=trashnet --layer='heads' --epoch='30'"
      ]
    }
  ],
  "metadata": {
    "kernelspec": {
      "display_name": "Python 3 (ipykernel)",
      "language": "python",
      "name": "python3"
    },
    "language_info": {
      "codemirror_mode": {
        "name": "ipython",
        "version": 3
      },
      "file_extension": ".py",
      "mimetype": "text/x-python",
      "name": "python",
      "nbconvert_exporter": "python",
      "pygments_lexer": "ipython3",
      "version": "3.9.7"
    },
    "colab": {
      "name": "jarvis_trashnet_maskrcnn_training_tf2.ipynb",
      "provenance": [],
      "collapsed_sections": []
    },
    "accelerator": "GPU"
  },
  "nbformat": 4,
  "nbformat_minor": 5
}